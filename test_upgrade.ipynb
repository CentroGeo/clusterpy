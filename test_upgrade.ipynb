{
 "cells": [
  {
   "cell_type": "code",
   "execution_count": 5,
   "metadata": {},
   "outputs": [],
   "source": [
    "%load_ext autoreload\n",
    "%autoreload 2\n",
    "import clusterpy"
   ]
  },
  {
   "cell_type": "code",
   "execution_count": 2,
   "metadata": {},
   "outputs": [
    {
     "name": "stdout",
     "output_type": "stream",
     "text": [
      "ClusterPy's official help system\n",
      "\n",
      "    **Callable functions are:**\n",
      "\n",
      "        * new: creates an empty Layer.\n",
      "        * load: load a ClusterPy project (<file>.CP).\n",
      "        * importArcData: creates a new Layer from a shapefile (<file>.shp).\n",
      "        * createPoints: creates a new Layer with points uniformly distributed on space.\n",
      "        * createGrid: creates a new Layer with a regular lattice.\n",
      "        * importShape: reads the geographic information stored on a shapefile.\n",
      "\n",
      "    For more information about any function just type ''CPhelp('<function>')'' \n",
      "    or read the official documentation available on 'documentation <www.rise-group.org>'\n",
      "    \n",
      "    **Examples**\n",
      "\n",
      "    To see the help of a class, in this case ''Layer'', type:\n",
      "    \n",
      "    >>> import clusterpy\n",
      "    >>> clusterpy.CPhelp(\"Layer\")\n",
      "\n",
      "    For a specific function, just type the name of the function:\n",
      "\n",
      "    **Example 1**\n",
      "    \n",
      "    >>> import clusterpy\n",
      "    >>> clusterpy.CPhelp(\"importArcData\")\n",
      "\n",
      "    **Example 2**\n",
      "\n",
      "    >>> import clusterpy\n",
      "    >>> clusterpy.CPhelp(\"new\")\n",
      "    \n"
     ]
    }
   ],
   "source": [
    "clusterpy.CPhelp()"
   ]
  },
  {
   "cell_type": "code",
   "execution_count": 3,
   "metadata": {},
   "outputs": [
    {
     "name": "stdout",
     "output_type": "stream",
     "text": [
      "Creating new layer\n",
      "Done\n"
     ]
    },
    {
     "data": {
      "text/plain": [
       "<clusterpy.core.layer.Layer at 0x7fe96340c400>"
      ]
     },
     "execution_count": 3,
     "metadata": {},
     "output_type": "execute_result"
    }
   ],
   "source": [
    "#clusterpy.CPhelp('new')\n",
    "lay = clusterpy.new()\n",
    "lay"
   ]
  },
  {
   "cell_type": "code",
   "execution_count": 208,
   "metadata": {},
   "outputs": [
    {
     "name": "stdout",
     "output_type": "stream",
     "text": [
      "Loading clusterpy/data_examples/china.dbf\n",
      "Loading clusterpy/data_examples/china.shp\n",
      "Done\n"
     ]
    }
   ],
   "source": [
    "#clusterpy.CPhelp('importArcData')\n",
    "china = clusterpy.importArcData(\"clusterpy/data_examples/china\")"
   ]
  },
  {
   "cell_type": "code",
   "execution_count": null,
   "metadata": {},
   "outputs": [],
   "source": [
    "#clusterpy.CPhelp('load')\n",
    "lay.save('tmp_data/lay')"
   ]
  }
 ],
 "metadata": {
  "kernelspec": {
   "display_name": "Python 3",
   "language": "python",
   "name": "python3"
  },
  "language_info": {
   "codemirror_mode": {
    "name": "ipython",
    "version": 3
   },
   "file_extension": ".py",
   "mimetype": "text/x-python",
   "name": "python",
   "nbconvert_exporter": "python",
   "pygments_lexer": "ipython3",
   "version": "3.7.3"
  }
 },
 "nbformat": 4,
 "nbformat_minor": 2
}
