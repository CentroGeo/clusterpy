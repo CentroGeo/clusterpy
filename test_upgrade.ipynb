{
 "cells": [
  {
   "cell_type": "code",
   "execution_count": 10,
   "metadata": {},
   "outputs": [
    {
     "name": "stdout",
     "output_type": "stream",
     "text": [
      "ClusterPy: Library of spatially constrained clustering algorithms\n"
     ]
    },
    {
     "ename": "TabError",
     "evalue": "inconsistent use of tabs and spaces in indentation (pRegionsExactCP.py, line 93)",
     "output_type": "error",
     "traceback": [
      "Traceback \u001b[0;36m(most recent call last)\u001b[0m:\n",
      "  File \u001b[1;32m\"/home/datalab/miniconda3/envs/clusterpy_3/lib/python3.7/site-packages/IPython/core/interactiveshell.py\"\u001b[0m, line \u001b[1;32m3326\u001b[0m, in \u001b[1;35mrun_code\u001b[0m\n    exec(code_obj, self.user_global_ns, self.user_ns)\n",
      "  File \u001b[1;32m\"<ipython-input-10-fdee8b2ef5db>\"\u001b[0m, line \u001b[1;32m1\u001b[0m, in \u001b[1;35m<module>\u001b[0m\n    import clusterpy\n",
      "  File \u001b[1;32m\"/home/datalab/git/clusterpy_python3/clusterpy/__init__.py\"\u001b[0m, line \u001b[1;32m6\u001b[0m, in \u001b[1;35m<module>\u001b[0m\n    from .core import *\n",
      "  File \u001b[1;32m\"/home/datalab/git/clusterpy_python3/clusterpy/core/__init__.py\"\u001b[0m, line \u001b[1;32m12\u001b[0m, in \u001b[1;35m<module>\u001b[0m\n    from .inputs import *\n",
      "  File \u001b[1;32m\"/home/datalab/git/clusterpy_python3/clusterpy/core/inputs.py\"\u001b[0m, line \u001b[1;32m23\u001b[0m, in \u001b[1;35m<module>\u001b[0m\n    from layer import Layer\n",
      "  File \u001b[1;32m\"/home/datalab/git/clusterpy_python3/clusterpy/core/layer.py\"\u001b[0m, line \u001b[1;32m49\u001b[0m, in \u001b[1;35m<module>\u001b[0m\n    from toolboxes import execAZP\n",
      "  File \u001b[1;32m\"/home/datalab/git/clusterpy_python3/clusterpy/core/toolboxes/__init__.py\"\u001b[0m, line \u001b[1;32m16\u001b[0m, in \u001b[1;35m<module>\u001b[0m\n    from .cluster import *\n",
      "\u001b[0;36m  File \u001b[0;32m\"/home/datalab/git/clusterpy_python3/clusterpy/core/toolboxes/cluster/__init__.py\"\u001b[0;36m, line \u001b[0;32m25\u001b[0;36m, in \u001b[0;35m<module>\u001b[0;36m\u001b[0m\n\u001b[0;31m    from .pRegionsExactCP import execPregionsExactCP\u001b[0m\n",
      "\u001b[0;36m  File \u001b[0;32m\"/home/datalab/git/clusterpy_python3/clusterpy/core/toolboxes/cluster/pRegionsExactCP.py\"\u001b[0;36m, line \u001b[0;32m93\u001b[0m\n\u001b[0;31m    for j in numA:\u001b[0m\n\u001b[0m                  ^\u001b[0m\n\u001b[0;31mTabError\u001b[0m\u001b[0;31m:\u001b[0m inconsistent use of tabs and spaces in indentation\n"
     ]
    }
   ],
   "source": [
    "import clusterpy"
   ]
  },
  {
   "cell_type": "code",
   "execution_count": null,
   "metadata": {},
   "outputs": [],
   "source": []
  }
 ],
 "metadata": {
  "kernelspec": {
   "display_name": "Python 3",
   "language": "python",
   "name": "python3"
  },
  "language_info": {
   "codemirror_mode": {
    "name": "ipython",
    "version": 3
   },
   "file_extension": ".py",
   "mimetype": "text/x-python",
   "name": "python",
   "nbconvert_exporter": "python",
   "pygments_lexer": "ipython3",
   "version": "3.7.3"
  }
 },
 "nbformat": 4,
 "nbformat_minor": 2
}
