{
 "cells": [
  {
   "cell_type": "code",
   "execution_count": 12,
   "metadata": {},
   "outputs": [
    {
     "name": "stdout",
     "output_type": "stream",
     "text": [
      "ClusterPy: Library of spatially constrained clustering algorithms\n",
      "Some functions are not available, reason: No module named 'Polygon'\n"
     ]
    }
   ],
   "source": [
    "import clusterpy"
   ]
  },
  {
   "cell_type": "code",
   "execution_count": 13,
   "metadata": {},
   "outputs": [
    {
     "name": "stdout",
     "output_type": "stream",
     "text": [
      "ClusterPy's official help system\n",
      "\n",
      "    **Callable functions are:**\n",
      "\n",
      "        * new: creates an empty Layer.\n",
      "        * load: load a ClusterPy project (<file>.CP).\n",
      "        * importArcData: creates a new Layer from a shapefile (<file>.shp).\n",
      "        * createPoints: creates a new Layer with points uniformly distributed on space.\n",
      "        * createGrid: creates a new Layer with a regular lattice.\n",
      "        * importShape: reads the geographic information stored on a shapefile.\n",
      "\n",
      "    For more information about any function just type ''CPhelp('<function>')'' \n",
      "    or read the official documentation available on 'documentation <www.rise-group.org>'\n",
      "    \n",
      "    **Examples**\n",
      "\n",
      "    To see the help of a class, in this case ''Layer'', type:\n",
      "    \n",
      "    >>> import clusterpy\n",
      "    >>> clusterpy.CPhelp(\"Layer\")\n",
      "\n",
      "    For a specific function, just type the name of the function:\n",
      "\n",
      "    **Example 1**\n",
      "    \n",
      "    >>> import clusterpy\n",
      "    >>> clusterpy.CPhelp(\"importArcData\")\n",
      "\n",
      "    **Example 2**\n",
      "\n",
      "    >>> import clusterpy\n",
      "    >>> clusterpy.CPhelp(\"new\")\n",
      "    \n"
     ]
    }
   ],
   "source": [
    "clusterpy.CPhelp()"
   ]
  },
  {
   "cell_type": "code",
   "execution_count": null,
   "metadata": {},
   "outputs": [],
   "source": []
  }
 ],
 "metadata": {
  "kernelspec": {
   "display_name": "Python 3",
   "language": "python",
   "name": "python3"
  },
  "language_info": {
   "codemirror_mode": {
    "name": "ipython",
    "version": 3
   },
   "file_extension": ".py",
   "mimetype": "text/x-python",
   "name": "python",
   "nbconvert_exporter": "python",
   "pygments_lexer": "ipython3",
   "version": "3.7.3"
  }
 },
 "nbformat": 4,
 "nbformat_minor": 2
}
