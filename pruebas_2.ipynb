{
 "cells": [
  {
   "cell_type": "code",
   "execution_count": 1,
   "metadata": {},
   "outputs": [
    {
     "name": "stdout",
     "output_type": "stream",
     "text": [
      "ClusterPy: Library of spatially constrained clustering algorithms\n",
      "Some functions are not available, reason: No module named Polygon\n",
      "Some functions are not available, reason: No module named Polygon\n"
     ]
    }
   ],
   "source": [
    "import clusterpy"
   ]
  },
  {
   "cell_type": "code",
   "execution_count": 3,
   "metadata": {},
   "outputs": [
    {
     "name": "stdout",
     "output_type": "stream",
     "text": [
      "Creates a new Layer from a shapefile (<file>.shp)\n",
      "    \n",
      "    :param filename: filename without extension \n",
      "    :type filename: string\n",
      "    :rtype: Layer (CP project)\n",
      "\n",
      "    **Description**\n",
      "\n",
      "    `ESRI <http://www.esri.com/>`_ shapefile is a binary file used to\n",
      "    save and transport maps. During the last times it has become\n",
      "    the most used format for the spatial scientists around the world.\n",
      "\n",
      "    On clusterPy's \"data_examples\" folder you can find some shapefiles. To\n",
      "    load a shapefile in clusterPy just follow the example bellow.\n",
      "\n",
      "    **Example** ::\n",
      "\n",
      "        import clusterpy\n",
      "        china = clusterpy.importArcData(\"clusterpy/data_examples/china\")\n",
      "\n",
      "    \n"
     ]
    }
   ],
   "source": [
    "clusterpy.CPhelp('importArcData')"
   ]
  },
  {
   "cell_type": "code",
   "execution_count": null,
   "metadata": {},
   "outputs": [],
   "source": []
  }
 ],
 "metadata": {
  "kernelspec": {
   "display_name": "Python 2",
   "language": "python",
   "name": "python2"
  },
  "language_info": {
   "codemirror_mode": {
    "name": "ipython",
    "version": 2
   },
   "file_extension": ".py",
   "mimetype": "text/x-python",
   "name": "python",
   "nbconvert_exporter": "python",
   "pygments_lexer": "ipython2",
   "version": "2.7.15"
  }
 },
 "nbformat": 4,
 "nbformat_minor": 2
}
